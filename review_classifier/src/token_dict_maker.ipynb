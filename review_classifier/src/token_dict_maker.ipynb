{
 "cells": [
  {
   "cell_type": "code",
   "execution_count": 1,
   "metadata": {
    "collapsed": false,
    "deletable": true,
    "editable": true
   },
   "outputs": [
    {
     "name": "stdout",
     "output_type": "stream",
     "text": [
      "num docs = 150000\n",
      "num of tokens: 55059\n"
     ]
    }
   ],
   "source": [
    "from collections import defaultdict\n",
    "from pprint import pprint\n",
    "from konlpy.tag import Twitter\n",
    "from collections import Counter\n",
    "from sklearn.feature_extraction.text import CountVectorizer\n",
    "from scipy.io import mmwrite, mmread\n",
    "\n",
    "twitter = Twitter()\n",
    "\n",
    "review_corpus_file = '../naver_movie_review/review_train.txt'\n",
    "\n",
    "docs = []\n",
    "ratings = []\n",
    "with open(review_corpus_file, encoding='utf-8') as f:\n",
    "    while 1:\n",
    "        line = f.readline()\n",
    "        if not line: break\n",
    "        arr = line.split('\\t')\n",
    "        doc = arr[1].strip()\n",
    "        docs.append(doc)\n",
    "        rating = arr[2].strip()\n",
    "        ratings.append(rating)\n",
    "\n",
    "print('num docs = %d' % len(docs))\n",
    "\n",
    "tokens = []\n",
    "for doc in docs:\n",
    "    for lex, tag in twitter.pos(doc):\n",
    "        if tag == 'Noun' or tag == 'Adjective' or tag == 'Verb':\n",
    "            token = lex + '/' + tag\n",
    "            tokens.append(token)\n",
    "token_counter = Counter(tokens)\n",
    "print('num of tokens: %d' % len(token_counter))"
   ]
  },
  {
   "cell_type": "code",
   "execution_count": 2,
   "metadata": {
    "collapsed": false,
    "deletable": true,
    "editable": true
   },
   "outputs": [
    {
     "data": {
      "text/plain": [
       "['더빙/Noun',\n",
       " '진짜/Noun',\n",
       " '짜증/Noun',\n",
       " '나네/Verb',\n",
       " '목소리/Noun',\n",
       " '흠/Noun',\n",
       " '포스터/Noun',\n",
       " '보고/Noun',\n",
       " '초딩/Noun',\n",
       " '영화/Noun']"
      ]
     },
     "execution_count": 2,
     "metadata": {},
     "output_type": "execute_result"
    }
   ],
   "source": [
    "tokens[:10]"
   ]
  },
  {
   "cell_type": "code",
   "execution_count": 3,
   "metadata": {
    "collapsed": false,
    "deletable": true,
    "editable": true
   },
   "outputs": [
    {
     "name": "stdout",
     "output_type": "stream",
     "text": [
      "num of tokens (min_count = 2): 31758\n",
      "num of tokens (min_count = 3): 24396\n",
      "num of tokens (min_count = 5): 17643\n",
      "num of tokens (min_count = 10): 11093\n"
     ]
    }
   ],
   "source": [
    "for min_count in [2, 3, 5, 10]:\n",
    "    _counter = {word for word, freq in token_counter.items() if freq >= min_count}\n",
    "    print('num of tokens (min_count = %d): %d' % (min_count, len(_counter)))"
   ]
  },
  {
   "cell_type": "code",
   "execution_count": 4,
   "metadata": {
    "collapsed": false,
    "deletable": true,
    "editable": true
   },
   "outputs": [],
   "source": [
    "token_dict = {word for word, freq in token_counter.items() if freq >= 3}\n",
    "\n",
    "def custom_tokenizer(doc):\n",
    "    tokens = []\n",
    "    for lex, tag in twitter.pos(doc):\n",
    "        token = lex + '/' + tag\n",
    "        if token in token_dict:\n",
    "            tokens.append(token)\n",
    "    return tokens\n",
    "\n",
    "vectorizer = CountVectorizer(tokenizer=custom_tokenizer, min_df=0.005, max_df=0.95)\n",
    "x_sparse = vectorizer.fit_transform(docs)\n",
    "vocab2int = vectorizer.vocabulary_\n",
    "x_dense = x_sparse.todense()"
   ]
  },
  {
   "cell_type": "code",
   "execution_count": 5,
   "metadata": {
    "collapsed": false,
    "deletable": true,
    "editable": true
   },
   "outputs": [
    {
     "data": {
      "text/plain": [
       "279"
      ]
     },
     "execution_count": 5,
     "metadata": {},
     "output_type": "execute_result"
    }
   ],
   "source": [
    "len(vocab2int)"
   ]
  },
  {
   "cell_type": "code",
   "execution_count": 6,
   "metadata": {
    "collapsed": false,
    "deletable": true,
    "editable": true
   },
   "outputs": [
    {
     "data": {
      "text/plain": [
       "<150000x279 sparse matrix of type '<class 'numpy.int64'>'\n",
       "\twith 578711 stored elements in Compressed Sparse Row format>"
      ]
     },
     "execution_count": 6,
     "metadata": {},
     "output_type": "execute_result"
    }
   ],
   "source": [
    "x_sparse"
   ]
  },
  {
   "cell_type": "code",
   "execution_count": 7,
   "metadata": {
    "collapsed": false,
    "deletable": true,
    "editable": true
   },
   "outputs": [
    {
     "data": {
      "text/plain": [
       "{'가/Verb': 0,\n",
       " '가슴/Noun': 1,\n",
       " '가장/Noun': 2,\n",
       " '가족/Noun': 3,\n",
       " '감/Noun': 4,\n",
       " '감독/Noun': 5,\n",
       " '감동/Noun': 6,\n",
       " '같/Adjective': 7,\n",
       " '같다/Adjective': 8,\n",
       " '같아/Adjective': 9,\n",
       " '같은/Adjective': 10,\n",
       " '개/Noun': 11,\n",
       " '개봉/Noun': 12,\n",
       " '개인/Noun': 13,\n",
       " '거/Noun': 14,\n",
       " '건/Noun': 15,\n",
       " '건지/Verb': 16,\n",
       " '걸/Noun': 17,\n",
       " '것/Noun': 18,\n",
       " '게/Noun': 19,\n",
       " '결말/Noun': 20,\n",
       " '계속/Noun': 21,\n",
       " '공감/Noun': 22,\n",
       " '공포/Noun': 23,\n",
       " '괜찮/Adjective': 24,\n",
       " '굿/Noun': 25,\n",
       " '그/Noun': 26,\n",
       " '그냥/Noun': 27,\n",
       " '그런/Adjective': 28,\n",
       " '극장/Noun': 29,\n",
       " '급/Noun': 30,\n",
       " '기/Noun': 31,\n",
       " '기대/Noun': 32,\n",
       " '기분/Noun': 33,\n",
       " '기억/Noun': 34,\n",
       " '긴장감/Noun': 35,\n",
       " '꼭/Noun': 36,\n",
       " '끝/Noun': 37,\n",
       " '나/Noun': 38,\n",
       " '나름/Noun': 39,\n",
       " '나오는/Verb': 40,\n",
       " '나온/Verb': 41,\n",
       " '나와/Verb': 42,\n",
       " '나왔/Verb': 43,\n",
       " '난/Noun': 44,\n",
       " '남는/Verb': 45,\n",
       " '남자/Noun': 46,\n",
       " '내/Noun': 47,\n",
       " '내내/Noun': 48,\n",
       " '내용/Noun': 49,\n",
       " '너무/Noun': 50,\n",
       " '넘/Verb': 51,\n",
       " '년/Noun': 52,\n",
       " '눈/Noun': 53,\n",
       " '눈물/Noun': 54,\n",
       " '느낌/Noun': 55,\n",
       " '는/Verb': 56,\n",
       " '다른/Noun': 57,\n",
       " '다시/Noun': 58,\n",
       " '대박/Noun': 59,\n",
       " '대사/Noun': 60,\n",
       " '대한/Noun': 61,\n",
       " '더/Noun': 62,\n",
       " '데/Noun': 63,\n",
       " '도/Noun': 64,\n",
       " '돈/Noun': 65,\n",
       " '되/Verb': 66,\n",
       " '되는/Verb': 67,\n",
       " '된/Verb': 68,\n",
       " '될/Verb': 69,\n",
       " '드라마/Noun': 70,\n",
       " '들/Verb': 71,\n",
       " '듯/Noun': 72,\n",
       " '때/Noun': 73,\n",
       " '때문/Noun': 74,\n",
       " '또/Noun': 75,\n",
       " '마음/Noun': 76,\n",
       " '마지막/Noun': 77,\n",
       " '만드는/Verb': 78,\n",
       " '만든/Verb': 79,\n",
       " '만들/Verb': 80,\n",
       " '만들어/Verb': 81,\n",
       " '만들었/Verb': 82,\n",
       " '많은/Adjective': 83,\n",
       " '말/Noun': 84,\n",
       " '매력/Noun': 85,\n",
       " '명작/Noun': 86,\n",
       " '모두/Noun': 87,\n",
       " '모든/Noun': 88,\n",
       " '모르/Verb': 89,\n",
       " '모습/Noun': 90,\n",
       " '몰입/Noun': 91,\n",
       " '못/Noun': 92,\n",
       " '무슨/Noun': 93,\n",
       " '뭐/Noun': 94,\n",
       " '뭔가/Noun': 95,\n",
       " '반전/Noun': 96,\n",
       " '배우/Noun': 97,\n",
       " '번/Noun': 98,\n",
       " '별/Noun': 99,\n",
       " '별로/Noun': 100,\n",
       " '보게/Verb': 101,\n",
       " '보고/Noun': 102,\n",
       " '보고/Verb': 103,\n",
       " '보기/Noun': 104,\n",
       " '보는/Verb': 105,\n",
       " '보다/Verb': 106,\n",
       " '보면/Verb': 107,\n",
       " '보여/Verb': 108,\n",
       " '보지/Noun': 109,\n",
       " '본/Verb': 110,\n",
       " '볼/Noun': 111,\n",
       " '볼/Verb': 112,\n",
       " '봐/Noun': 113,\n",
       " '봐/Verb': 114,\n",
       " '봤/Verb': 115,\n",
       " '부분/Noun': 116,\n",
       " '분/Noun': 117,\n",
       " '뿐/Noun': 118,\n",
       " '사람/Noun': 119,\n",
       " '사랑/Noun': 120,\n",
       " '생각/Noun': 121,\n",
       " '소재/Noun': 122,\n",
       " '속/Noun': 123,\n",
       " '솔직히/Adjective': 124,\n",
       " '수/Noun': 125,\n",
       " '수준/Noun': 126,\n",
       " '스릴러/Noun': 127,\n",
       " '스토리/Noun': 128,\n",
       " '시간/Noun': 129,\n",
       " '시리즈/Noun': 130,\n",
       " '실망/Noun': 131,\n",
       " '싶다/Verb': 132,\n",
       " '쓰/Verb': 133,\n",
       " '쓰레기/Noun': 134,\n",
       " '아까운/Adjective': 135,\n",
       " '아깝/Adjective': 136,\n",
       " '아니/Adjective': 137,\n",
       " '아닌/Adjective': 138,\n",
       " '아름다운/Adjective': 139,\n",
       " '아쉽/Adjective': 140,\n",
       " '아이/Noun': 141,\n",
       " '아주/Noun': 142,\n",
       " '아직/Noun': 143,\n",
       " '안/Noun': 144,\n",
       " '않/Verb': 145,\n",
       " '않고/Verb': 146,\n",
       " '않는/Verb': 147,\n",
       " '않았/Verb': 148,\n",
       " '않은/Verb': 149,\n",
       " '알/Noun': 150,\n",
       " '알/Verb': 151,\n",
       " '알바/Noun': 152,\n",
       " '애/Noun': 153,\n",
       " '액션/Noun': 154,\n",
       " '어떻/Adjective': 155,\n",
       " '어이/Noun': 156,\n",
       " '억지/Noun': 157,\n",
       " '없/Adjective': 158,\n",
       " '없고/Adjective': 159,\n",
       " '없네/Adjective': 160,\n",
       " '없는/Adjective': 161,\n",
       " '없다/Adjective': 162,\n",
       " '없어/Adjective': 163,\n",
       " '없었/Adjective': 164,\n",
       " '여운/Noun': 165,\n",
       " '여자/Noun': 166,\n",
       " '여주/Noun': 167,\n",
       " '역시/Noun': 168,\n",
       " '연기/Noun': 169,\n",
       " '연기력/Noun': 170,\n",
       " '연출/Noun': 171,\n",
       " '였/Verb': 172,\n",
       " '영상/Noun': 173,\n",
       " '영화/Noun': 174,\n",
       " '와/Noun': 175,\n",
       " '완전/Noun': 176,\n",
       " '왜/Noun': 177,\n",
       " '요/Noun': 178,\n",
       " '요즘/Noun': 179,\n",
       " '용/Noun': 180,\n",
       " '우리/Noun': 181,\n",
       " '움/Noun': 182,\n",
       " '원작/Noun': 183,\n",
       " '유치/Noun': 184,\n",
       " '음악/Noun': 185,\n",
       " '이/Noun': 186,\n",
       " '이건/Noun': 187,\n",
       " '이런/Adjective': 188,\n",
       " '이상/Noun': 189,\n",
       " '이야기/Noun': 190,\n",
       " '이었/Verb': 191,\n",
       " '이영화/Noun': 192,\n",
       " '이유/Noun': 193,\n",
       " '이제/Noun': 194,\n",
       " '이해/Noun': 195,\n",
       " '인간/Noun': 196,\n",
       " '인생/Noun': 197,\n",
       " '일/Noun': 198,\n",
       " '일본/Noun': 199,\n",
       " '임/Noun': 200,\n",
       " '입니/Adjective': 201,\n",
       " '있/Adjective': 202,\n",
       " '있는/Adjective': 203,\n",
       " '있다/Adjective': 204,\n",
       " '있어/Adjective': 205,\n",
       " '있었/Adjective': 206,\n",
       " '자체/Noun': 207,\n",
       " '작가/Noun': 208,\n",
       " '작품/Noun': 209,\n",
       " '잔잔/Noun': 210,\n",
       " '잘/Verb': 211,\n",
       " '장면/Noun': 212,\n",
       " '재미/Noun': 213,\n",
       " '재미없/Adjective': 214,\n",
       " '재미있게/Adjective': 215,\n",
       " '재밌/Adjective': 216,\n",
       " '재밌게/Adjective': 217,\n",
       " '재밌는/Adjective': 218,\n",
       " '재밌다/Adjective': 219,\n",
       " '재밌어/Adjective': 220,\n",
       " '재밌었/Adjective': 221,\n",
       " '잼/Noun': 222,\n",
       " '잼/Verb': 223,\n",
       " '저/Noun': 224,\n",
       " '전/Noun': 225,\n",
       " '전개/Noun': 226,\n",
       " '전혀/Noun': 227,\n",
       " '점/Noun': 228,\n",
       " '점도/Noun': 229,\n",
       " '정도/Noun': 230,\n",
       " '정말/Noun': 231,\n",
       " '제/Noun': 232,\n",
       " '제대로/Noun': 233,\n",
       " '제목/Noun': 234,\n",
       " '제일/Noun': 235,\n",
       " '조금/Noun': 236,\n",
       " '좀/Noun': 237,\n",
       " '좋/Adjective': 238,\n",
       " '좋아하는/Adjective': 239,\n",
       " '주고/Verb': 240,\n",
       " '주는/Verb': 241,\n",
       " '주인공/Noun': 242,\n",
       " '준/Noun': 243,\n",
       " '줄/Noun': 244,\n",
       " '중/Noun': 245,\n",
       " '중간/Noun': 246,\n",
       " '지금/Noun': 247,\n",
       " '진심/Noun': 248,\n",
       " '진짜/Noun': 249,\n",
       " '짜/Verb': 250,\n",
       " '짜증/Noun': 251,\n",
       " '짱/Noun': 252,\n",
       " '참/Verb': 253,\n",
       " '처음/Noun': 254,\n",
       " '최고/Noun': 255,\n",
       " '최악/Noun': 256,\n",
       " '캐릭터/Noun': 257,\n",
       " '코미디/Noun': 258,\n",
       " '편/Noun': 259,\n",
       " '평점/Noun': 260,\n",
       " '하게/Verb': 261,\n",
       " '하고/Verb': 262,\n",
       " '하나/Noun': 263,\n",
       " '하네/Verb': 264,\n",
       " '하는/Verb': 265,\n",
       " '하다/Verb': 266,\n",
       " '하면/Verb': 267,\n",
       " '하지/Verb': 268,\n",
       " '한/Verb': 269,\n",
       " '한국/Noun': 270,\n",
       " '한번/Noun': 271,\n",
       " '할/Verb': 272,\n",
       " '함/Noun': 273,\n",
       " '합/Verb': 274,\n",
       " '했/Verb': 275,\n",
       " '허/Verb': 276,\n",
       " '현실/Noun': 277,\n",
       " '후/Noun': 278}"
      ]
     },
     "execution_count": 7,
     "metadata": {},
     "output_type": "execute_result"
    }
   ],
   "source": [
    "vocab2int"
   ]
  },
  {
   "cell_type": "code",
   "execution_count": 8,
   "metadata": {
    "collapsed": false,
    "deletable": true,
    "editable": true
   },
   "outputs": [
    {
     "data": {
      "text/plain": [
       "['0', '1', '0', '0', '1', '0', '0', '0', '1', '1']"
      ]
     },
     "execution_count": 8,
     "metadata": {},
     "output_type": "execute_result"
    }
   ],
   "source": [
    "ratings[:10]"
   ]
  },
  {
   "cell_type": "code",
   "execution_count": 9,
   "metadata": {
    "collapsed": false,
    "deletable": true,
    "editable": true
   },
   "outputs": [
    {
     "data": {
      "text/plain": [
       "matrix([[0, 0, 0, 0, 0, 0, 0, 0, 0, 0, 0, 0, 0, 0, 0, 0, 0, 0, 0, 0, 0, 0,\n",
       "         0, 0, 0, 0, 0, 0, 0, 0, 0, 0, 0, 0, 0, 0, 0, 0, 0, 0, 0, 0, 0, 0,\n",
       "         0, 0, 0, 0, 0, 0, 0, 0, 0, 0, 0, 0, 0, 0, 0, 0, 0, 0, 0, 0, 0, 0,\n",
       "         0, 0, 0, 0, 0, 0, 0, 0, 0, 0, 0, 0, 0, 0, 0, 0, 0, 0, 0, 0, 0, 0,\n",
       "         0, 0, 0, 0, 0, 0, 0, 0, 0, 0, 0, 0, 0, 0, 1, 0, 0, 0, 0, 0, 0, 0,\n",
       "         0, 0, 0, 0, 0, 0, 0, 0, 0, 0, 0, 0, 0, 0, 0, 0, 0, 0, 0, 0, 0, 0,\n",
       "         0, 0, 0, 0, 0, 0, 0, 0, 0, 0, 0, 0, 0, 0, 0, 0, 0, 0, 0, 0, 0, 0,\n",
       "         0, 0, 0, 0, 0, 0, 0, 0, 0, 0, 0, 0, 0, 0, 0, 1, 0, 0, 0, 0, 1, 0,\n",
       "         0, 0, 0, 0, 0, 0, 0, 0, 0, 0, 0, 0, 0, 0, 0, 0, 0, 0, 0, 0, 0, 0,\n",
       "         0, 0, 0, 0, 0, 0, 0, 0, 0, 0, 0, 0, 0, 0, 0, 0, 0, 0, 0, 0, 0, 0,\n",
       "         0, 0, 0, 0, 0, 0, 0, 0, 0, 0, 0, 0, 0, 0, 0, 0, 0, 0, 0, 0, 0, 0,\n",
       "         0, 0, 1, 0, 0, 0, 0, 0, 0, 0, 0, 0, 0, 0, 0, 0, 0, 0, 0, 0, 0, 0,\n",
       "         0, 0, 0, 0, 0, 0, 0, 0, 0, 0, 0, 0, 0, 0, 0]], dtype=int64)"
      ]
     },
     "execution_count": 9,
     "metadata": {},
     "output_type": "execute_result"
    }
   ],
   "source": [
    "x_dense[1]"
   ]
  },
  {
   "cell_type": "code",
   "execution_count": 41,
   "metadata": {
    "collapsed": false,
    "deletable": true,
    "editable": true
   },
   "outputs": [],
   "source": [
    "row = len(x_dense)"
   ]
  },
  {
   "cell_type": "code",
   "execution_count": 46,
   "metadata": {
    "collapsed": false,
    "deletable": true,
    "editable": true
   },
   "outputs": [],
   "source": [
    "review_vector_file = '../naver_movie_review/review.csv'\n",
    "with open(review_vector_file, 'w', encoding='utf-8') as fw:\n",
    "    for i in range(row):\n",
    "        x_array = list(x_dense[i].flat)\n",
    "        for x in x_array:\n",
    "            fw.write(str(x))\n",
    "            fw.write(',')\n",
    "        fw.write(ratings[i])\n",
    "        fw.write('\\n')"
   ]
  },
  {
   "cell_type": "code",
   "execution_count": 57,
   "metadata": {
    "collapsed": false
   },
   "outputs": [],
   "source": [
    "from operator import itemgetter\n",
    "\n",
    "sorted_vocab2int = sorted(vocab2int.items(), key=itemgetter(1), reverse=False)"
   ]
  },
  {
   "cell_type": "code",
   "execution_count": 60,
   "metadata": {
    "collapsed": false
   },
   "outputs": [],
   "source": [
    "token_dictionary_file = '../naver_movie_review/token.dic'\n",
    "with open(token_dictionary_file, 'w', encoding='utf-8') as fd:\n",
    "    for vocab in sorted_vocab2int:\n",
    "        fd.write(vocab[0])\n",
    "        fd.write('\\n')"
   ]
  },
  {
   "cell_type": "code",
   "execution_count": 64,
   "metadata": {
    "collapsed": true
   },
   "outputs": [],
   "source": [
    "test_file = '../naver_movie_review/review_test.txt'\n",
    "\n",
    "docs = []\n",
    "ratings = []\n",
    "with open(test_file, encoding='utf-8') as f:\n",
    "    while 1:\n",
    "        line = f.readline()\n",
    "        if not line: break\n",
    "        arr = line.split('\\t')\n",
    "        doc = arr[1].strip()\n",
    "        docs.append(doc)\n",
    "        rating = arr[2].strip()\n",
    "        ratings.append(rating)"
   ]
  },
  {
   "cell_type": "code",
   "execution_count": 66,
   "metadata": {
    "collapsed": false
   },
   "outputs": [
    {
     "data": {
      "text/plain": [
       "50000"
      ]
     },
     "execution_count": 66,
     "metadata": {},
     "output_type": "execute_result"
    }
   ],
   "source": [
    "len(docs)"
   ]
  },
  {
   "cell_type": "code",
   "execution_count": 68,
   "metadata": {
    "collapsed": false
   },
   "outputs": [
    {
     "data": {
      "text/plain": [
       "50000"
      ]
     },
     "execution_count": 68,
     "metadata": {},
     "output_type": "execute_result"
    }
   ],
   "source": [
    "len(ratings)"
   ]
  },
  {
   "cell_type": "code",
   "execution_count": 81,
   "metadata": {
    "collapsed": false
   },
   "outputs": [],
   "source": [
    "test_csv = '../naver_movie_review/test.csv'\n",
    "with open(test_csv, 'w', encoding='utf-8') as ft:\n",
    "    column = len(vocab2int)\n",
    "    i = 0\n",
    "    for doc in docs:\n",
    "        _arr = ['0'] * column\n",
    "        for lex, tag in twitter.pos(doc):\n",
    "            token = lex + '/' + tag\n",
    "            if token in vocab2int:\n",
    "                idx = vocab2int.get(token)\n",
    "                _arr[idx] = '1'\n",
    "        for e in _arr:\n",
    "            ft.write(e)\n",
    "            ft.write(',')\n",
    "        ft.write(ratings[i])\n",
    "        ft.write('\\n')\n",
    "        i += 1"
   ]
  }
 ],
 "metadata": {
  "kernelspec": {
   "display_name": "Python 3",
   "language": "python",
   "name": "python3"
  },
  "language_info": {
   "codemirror_mode": {
    "name": "ipython",
    "version": 3
   },
   "file_extension": ".py",
   "mimetype": "text/x-python",
   "name": "python",
   "nbconvert_exporter": "python",
   "pygments_lexer": "ipython3",
   "version": "3.6.1"
  }
 },
 "nbformat": 4,
 "nbformat_minor": 2
}
